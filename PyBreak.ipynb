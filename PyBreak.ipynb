{
 "cells": [
  {
   "cell_type": "code",
   "execution_count": 1,
   "id": "02b9c14b-adbe-4667-9b8c-a0d91a28fdbd",
   "metadata": {},
   "outputs": [],
   "source": [
    "#Pybreak logic"
   ]
  },
  {
   "cell_type": "code",
   "execution_count": 2,
   "id": "0e8b78ae-2c94-401e-a8b4-342324d6c3c5",
   "metadata": {},
   "outputs": [],
   "source": [
    "import pandas as pd\n",
    "import numpy as p"
   ]
  },
  {
   "cell_type": "code",
   "execution_count": 3,
   "id": "4710bc43-c564-4477-9edb-e9ebbd0d6ced",
   "metadata": {},
   "outputs": [
    {
     "name": "stdout",
     "output_type": "stream",
     "text": [
      "This is the inital look at the flocation tests that are happening\n"
     ]
    }
   ],
   "source": [
    "print('This is the inital look at the flocation tests that are happening')"
   ]
  }
 ],
 "metadata": {
  "kernelspec": {
   "display_name": "Python 3 (ipykernel)",
   "language": "python",
   "name": "python3"
  },
  "language_info": {
   "codemirror_mode": {
    "name": "ipython",
    "version": 3
   },
   "file_extension": ".py",
   "mimetype": "text/x-python",
   "name": "python",
   "nbconvert_exporter": "python",
   "pygments_lexer": "ipython3",
   "version": "3.10.5"
  }
 },
 "nbformat": 4,
 "nbformat_minor": 5
}
